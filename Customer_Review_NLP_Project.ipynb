{
 "cells": [
  {
   "cell_type": "code",
   "execution_count": 1,
   "id": "4e243cf3",
   "metadata": {},
   "outputs": [],
   "source": [
    "reset -fs"
   ]
  },
  {
   "cell_type": "code",
   "execution_count": 2,
   "id": "7fe9c645",
   "metadata": {},
   "outputs": [],
   "source": [
    "import numpy as np\n",
    "import nltk\n",
    "\n",
    "import re\n",
    "import string\n",
    "\n",
    "import matplotlib.pyplot as plt\n",
    "import seaborn as snsLatent\n",
    "\n",
    "import pandas as pd\n",
    "from sklearn.feature_extraction import text\n",
    "from sklearn.feature_extraction.text import TfidfVectorizer, CountVectorizer\n",
    "from sklearn.decomposition import TruncatedSVD\n",
    "from sklearn.decomposition import NMF\n",
    "from sklearn.metrics.pairwise import cosine_similarity"
   ]
  },
  {
   "cell_type": "code",
   "execution_count": 3,
   "id": "126dd310",
   "metadata": {},
   "outputs": [
    {
     "data": {
      "text/html": [
       "<div>\n",
       "<style scoped>\n",
       "    .dataframe tbody tr th:only-of-type {\n",
       "        vertical-align: middle;\n",
       "    }\n",
       "\n",
       "    .dataframe tbody tr th {\n",
       "        vertical-align: top;\n",
       "    }\n",
       "\n",
       "    .dataframe thead th {\n",
       "        text-align: right;\n",
       "    }\n",
       "</style>\n",
       "<table border=\"1\" class=\"dataframe\">\n",
       "  <thead>\n",
       "    <tr style=\"text-align: right;\">\n",
       "      <th></th>\n",
       "      <th>Clothing ID</th>\n",
       "      <th>Age</th>\n",
       "      <th>Title</th>\n",
       "      <th>Review Text</th>\n",
       "      <th>Rating</th>\n",
       "      <th>Recommended IND</th>\n",
       "      <th>Positive Feedback Count</th>\n",
       "      <th>Division Name</th>\n",
       "      <th>Department Name</th>\n",
       "      <th>Class Name</th>\n",
       "    </tr>\n",
       "  </thead>\n",
       "  <tbody>\n",
       "    <tr>\n",
       "      <th>0</th>\n",
       "      <td>767</td>\n",
       "      <td>33</td>\n",
       "      <td>NaN</td>\n",
       "      <td>Absolutely wonderful - silky and sexy and comf...</td>\n",
       "      <td>4</td>\n",
       "      <td>1</td>\n",
       "      <td>0</td>\n",
       "      <td>Initmates</td>\n",
       "      <td>Intimate</td>\n",
       "      <td>Intimates</td>\n",
       "    </tr>\n",
       "    <tr>\n",
       "      <th>1</th>\n",
       "      <td>1080</td>\n",
       "      <td>34</td>\n",
       "      <td>NaN</td>\n",
       "      <td>Love this dress!  it's sooo pretty.  i happene...</td>\n",
       "      <td>5</td>\n",
       "      <td>1</td>\n",
       "      <td>4</td>\n",
       "      <td>General</td>\n",
       "      <td>Dresses</td>\n",
       "      <td>Dresses</td>\n",
       "    </tr>\n",
       "    <tr>\n",
       "      <th>2</th>\n",
       "      <td>1077</td>\n",
       "      <td>60</td>\n",
       "      <td>Some major design flaws</td>\n",
       "      <td>I had such high hopes for this dress and reall...</td>\n",
       "      <td>3</td>\n",
       "      <td>0</td>\n",
       "      <td>0</td>\n",
       "      <td>General</td>\n",
       "      <td>Dresses</td>\n",
       "      <td>Dresses</td>\n",
       "    </tr>\n",
       "    <tr>\n",
       "      <th>3</th>\n",
       "      <td>1049</td>\n",
       "      <td>50</td>\n",
       "      <td>My favorite buy!</td>\n",
       "      <td>I love, love, love this jumpsuit. it's fun, fl...</td>\n",
       "      <td>5</td>\n",
       "      <td>1</td>\n",
       "      <td>0</td>\n",
       "      <td>General Petite</td>\n",
       "      <td>Bottoms</td>\n",
       "      <td>Pants</td>\n",
       "    </tr>\n",
       "    <tr>\n",
       "      <th>4</th>\n",
       "      <td>847</td>\n",
       "      <td>47</td>\n",
       "      <td>Flattering shirt</td>\n",
       "      <td>This shirt is very flattering to all due to th...</td>\n",
       "      <td>5</td>\n",
       "      <td>1</td>\n",
       "      <td>6</td>\n",
       "      <td>General</td>\n",
       "      <td>Tops</td>\n",
       "      <td>Blouses</td>\n",
       "    </tr>\n",
       "  </tbody>\n",
       "</table>\n",
       "</div>"
      ],
      "text/plain": [
       "   Clothing ID  Age                    Title  \\\n",
       "0          767   33                      NaN   \n",
       "1         1080   34                      NaN   \n",
       "2         1077   60  Some major design flaws   \n",
       "3         1049   50         My favorite buy!   \n",
       "4          847   47         Flattering shirt   \n",
       "\n",
       "                                         Review Text  Rating  Recommended IND  \\\n",
       "0  Absolutely wonderful - silky and sexy and comf...       4                1   \n",
       "1  Love this dress!  it's sooo pretty.  i happene...       5                1   \n",
       "2  I had such high hopes for this dress and reall...       3                0   \n",
       "3  I love, love, love this jumpsuit. it's fun, fl...       5                1   \n",
       "4  This shirt is very flattering to all due to th...       5                1   \n",
       "\n",
       "   Positive Feedback Count   Division Name Department Name Class Name  \n",
       "0                        0       Initmates        Intimate  Intimates  \n",
       "1                        4         General         Dresses    Dresses  \n",
       "2                        0         General         Dresses    Dresses  \n",
       "3                        0  General Petite         Bottoms      Pants  \n",
       "4                        6         General            Tops    Blouses  "
      ]
     },
     "execution_count": 3,
     "metadata": {},
     "output_type": "execute_result"
    }
   ],
   "source": [
    "df = pd.read_csv('Womens Clothing E-Commerce Reviews.csv', index_col=0)\n",
    "df.head()"
   ]
  },
  {
   "cell_type": "code",
   "execution_count": 4,
   "id": "eac21b02",
   "metadata": {},
   "outputs": [
    {
     "data": {
      "text/plain": [
       "(23486, 10)"
      ]
     },
     "execution_count": 4,
     "metadata": {},
     "output_type": "execute_result"
    }
   ],
   "source": [
    "df.shape"
   ]
  },
  {
   "cell_type": "markdown",
   "id": "d7fd174e",
   "metadata": {},
   "source": [
    "# Data Cleaning"
   ]
  },
  {
   "cell_type": "code",
   "execution_count": 5,
   "id": "6618fdce",
   "metadata": {},
   "outputs": [
    {
     "data": {
      "text/html": [
       "<div>\n",
       "<style scoped>\n",
       "    .dataframe tbody tr th:only-of-type {\n",
       "        vertical-align: middle;\n",
       "    }\n",
       "\n",
       "    .dataframe tbody tr th {\n",
       "        vertical-align: top;\n",
       "    }\n",
       "\n",
       "    .dataframe thead th {\n",
       "        text-align: right;\n",
       "    }\n",
       "</style>\n",
       "<table border=\"1\" class=\"dataframe\">\n",
       "  <thead>\n",
       "    <tr style=\"text-align: right;\">\n",
       "      <th></th>\n",
       "      <th>Review Text</th>\n",
       "      <th>Rating</th>\n",
       "    </tr>\n",
       "  </thead>\n",
       "  <tbody>\n",
       "    <tr>\n",
       "      <th>0</th>\n",
       "      <td>Absolutely wonderful - silky and sexy and comf...</td>\n",
       "      <td>4</td>\n",
       "    </tr>\n",
       "    <tr>\n",
       "      <th>1</th>\n",
       "      <td>Love this dress!  it's sooo pretty.  i happene...</td>\n",
       "      <td>5</td>\n",
       "    </tr>\n",
       "    <tr>\n",
       "      <th>2</th>\n",
       "      <td>I had such high hopes for this dress and reall...</td>\n",
       "      <td>3</td>\n",
       "    </tr>\n",
       "    <tr>\n",
       "      <th>3</th>\n",
       "      <td>I love, love, love this jumpsuit. it's fun, fl...</td>\n",
       "      <td>5</td>\n",
       "    </tr>\n",
       "    <tr>\n",
       "      <th>4</th>\n",
       "      <td>This shirt is very flattering to all due to th...</td>\n",
       "      <td>5</td>\n",
       "    </tr>\n",
       "  </tbody>\n",
       "</table>\n",
       "</div>"
      ],
      "text/plain": [
       "                                         Review Text  Rating\n",
       "0  Absolutely wonderful - silky and sexy and comf...       4\n",
       "1  Love this dress!  it's sooo pretty.  i happene...       5\n",
       "2  I had such high hopes for this dress and reall...       3\n",
       "3  I love, love, love this jumpsuit. it's fun, fl...       5\n",
       "4  This shirt is very flattering to all due to th...       5"
      ]
     },
     "execution_count": 5,
     "metadata": {},
     "output_type": "execute_result"
    }
   ],
   "source": [
    "df = df.drop(['Title', 'Clothing ID', 'Positive Feedback Count','Age', 'Recommended IND','Division Name'\n",
    "            ,'Department Name', 'Class Name'], axis=1)\n",
    "df.head()"
   ]
  },
  {
   "cell_type": "code",
   "execution_count": 6,
   "id": "d69ba8b8",
   "metadata": {},
   "outputs": [],
   "source": [
    "# data with rating below 4\n",
    "df2 = df[df.Rating < 4]"
   ]
  },
  {
   "cell_type": "code",
   "execution_count": 7,
   "id": "89430224",
   "metadata": {},
   "outputs": [
    {
     "data": {
      "text/html": [
       "<div>\n",
       "<style scoped>\n",
       "    .dataframe tbody tr th:only-of-type {\n",
       "        vertical-align: middle;\n",
       "    }\n",
       "\n",
       "    .dataframe tbody tr th {\n",
       "        vertical-align: top;\n",
       "    }\n",
       "\n",
       "    .dataframe thead th {\n",
       "        text-align: right;\n",
       "    }\n",
       "</style>\n",
       "<table border=\"1\" class=\"dataframe\">\n",
       "  <thead>\n",
       "    <tr style=\"text-align: right;\">\n",
       "      <th></th>\n",
       "      <th>Review Text</th>\n",
       "      <th>Rating</th>\n",
       "    </tr>\n",
       "  </thead>\n",
       "  <tbody>\n",
       "    <tr>\n",
       "      <th>2</th>\n",
       "      <td>I had such high hopes for this dress and reall...</td>\n",
       "      <td>3</td>\n",
       "    </tr>\n",
       "    <tr>\n",
       "      <th>5</th>\n",
       "      <td>I love tracy reese dresses, but this one is no...</td>\n",
       "      <td>2</td>\n",
       "    </tr>\n",
       "    <tr>\n",
       "      <th>10</th>\n",
       "      <td>Dress runs small esp where the zipper area run...</td>\n",
       "      <td>3</td>\n",
       "    </tr>\n",
       "    <tr>\n",
       "      <th>14</th>\n",
       "      <td>This is a nice choice for holiday gatherings. ...</td>\n",
       "      <td>3</td>\n",
       "    </tr>\n",
       "    <tr>\n",
       "      <th>16</th>\n",
       "      <td>Material and color is nice.  the leg opening i...</td>\n",
       "      <td>3</td>\n",
       "    </tr>\n",
       "  </tbody>\n",
       "</table>\n",
       "</div>"
      ],
      "text/plain": [
       "                                          Review Text  Rating\n",
       "2   I had such high hopes for this dress and reall...       3\n",
       "5   I love tracy reese dresses, but this one is no...       2\n",
       "10  Dress runs small esp where the zipper area run...       3\n",
       "14  This is a nice choice for holiday gatherings. ...       3\n",
       "16  Material and color is nice.  the leg opening i...       3"
      ]
     },
     "execution_count": 7,
     "metadata": {},
     "output_type": "execute_result"
    }
   ],
   "source": [
    "df2.head()"
   ]
  },
  {
   "cell_type": "code",
   "execution_count": 8,
   "id": "e15b7e1f",
   "metadata": {},
   "outputs": [
    {
     "data": {
      "text/plain": [
       "(5278, 2)"
      ]
     },
     "execution_count": 8,
     "metadata": {},
     "output_type": "execute_result"
    }
   ],
   "source": [
    "df2.shape"
   ]
  },
  {
   "cell_type": "code",
   "execution_count": 9,
   "id": "675e64e3",
   "metadata": {},
   "outputs": [
    {
     "data": {
      "text/plain": [
       "Review Text    85\n",
       "Rating          0\n",
       "dtype: int64"
      ]
     },
     "execution_count": 9,
     "metadata": {},
     "output_type": "execute_result"
    }
   ],
   "source": [
    "# Check missing values\n",
    "df2.isna().sum()"
   ]
  },
  {
   "cell_type": "code",
   "execution_count": 10,
   "id": "5c23ac0a",
   "metadata": {},
   "outputs": [],
   "source": [
    "# Drop missing values for 'review text'\n",
    "df2 = df2.dropna(subset=['Review Text', 'Rating'], axis=0)\n",
    "df2 = df2.reset_index(drop=True)"
   ]
  },
  {
   "cell_type": "code",
   "execution_count": 11,
   "id": "7d882bf2",
   "metadata": {},
   "outputs": [
    {
     "data": {
      "text/plain": [
       "(5193, 2)"
      ]
     },
     "execution_count": 11,
     "metadata": {},
     "output_type": "execute_result"
    }
   ],
   "source": [
    "df2.shape"
   ]
  },
  {
   "cell_type": "code",
   "execution_count": 12,
   "id": "8b03a8d8",
   "metadata": {},
   "outputs": [],
   "source": [
    "df2['text_length'] = df2['Review Text'].apply(lambda x: len(x.strip().split()))"
   ]
  },
  {
   "cell_type": "code",
   "execution_count": 13,
   "id": "52fee78c",
   "metadata": {},
   "outputs": [
    {
     "data": {
      "text/plain": [
       "count    5193.000000\n",
       "mean       62.690545\n",
       "std        27.301185\n",
       "min         3.000000\n",
       "25%        40.000000\n",
       "50%        62.000000\n",
       "75%        90.000000\n",
       "max       115.000000\n",
       "Name: text_length, dtype: float64"
      ]
     },
     "execution_count": 13,
     "metadata": {},
     "output_type": "execute_result"
    }
   ],
   "source": [
    "df2.text_length.describe()"
   ]
  },
  {
   "cell_type": "code",
   "execution_count": 14,
   "id": "cacf9702",
   "metadata": {},
   "outputs": [],
   "source": [
    "def clean(text):\n",
    "    '''Make text lowercase, remove text in square brackets,remove links,remove punctuation\n",
    "    and remove words containing numbers.'''\n",
    "    text = str(text).lower()\n",
    "    text = re.sub('\\[.*?\\]', '', text)\n",
    "    text = re.sub('https?://\\S+|www\\.\\S+', '', text)\n",
    "    text = re.sub('<.*?>+', '', text)\n",
    "    text = re.sub('\\n', '', text)\n",
    "    text = re.sub('\\w*\\d\\w*', '', text)\n",
    "    text=re.sub(r'@[A-Za-z0-9]+','',text)\n",
    "    text=re.sub(r'#','',text)\n",
    "    text=re.sub(r'RT[\\s]+','',text)\n",
    "    text=re.sub(r'[^\\w]', ' ', text)\n",
    "    text=re.sub(r'_', ' ', text)\n",
    "    \n",
    "    return text"
   ]
  },
  {
   "cell_type": "code",
   "execution_count": 15,
   "id": "ddc0c7f6",
   "metadata": {},
   "outputs": [
    {
     "data": {
      "text/plain": [
       "0    i had such high hopes for this dress and reall...\n",
       "1    i love tracy reese dresses  but this one is no...\n",
       "2    dress runs small esp where the zipper area run...\n",
       "3    this is a nice choice for holiday gatherings  ...\n",
       "4    material and color is nice   the leg opening i...\n",
       "Name: Review_Text, dtype: object"
      ]
     },
     "execution_count": 15,
     "metadata": {},
     "output_type": "execute_result"
    }
   ],
   "source": [
    "df2['Review_Text'] = df2['Review Text'].apply(clean)\n",
    "df2['Review_Text'].head()"
   ]
  },
  {
   "cell_type": "code",
   "execution_count": 16,
   "id": "3e77e3fa",
   "metadata": {},
   "outputs": [
    {
     "name": "stderr",
     "output_type": "stream",
     "text": [
      "[nltk_data] Downloading package wordnet to /Users/pramila/nltk_data...\n",
      "[nltk_data]   Package wordnet is already up-to-date!\n"
     ]
    },
    {
     "data": {
      "text/plain": [
       "True"
      ]
     },
     "execution_count": 16,
     "metadata": {},
     "output_type": "execute_result"
    }
   ],
   "source": [
    "import nltk\n",
    "nltk.download('wordnet')"
   ]
  },
  {
   "cell_type": "code",
   "execution_count": 17,
   "id": "c19802fb",
   "metadata": {},
   "outputs": [
    {
     "name": "stderr",
     "output_type": "stream",
     "text": [
      "[nltk_data] Downloading package omw-1.4 to /Users/pramila/nltk_data...\n",
      "[nltk_data]   Package omw-1.4 is already up-to-date!\n"
     ]
    },
    {
     "data": {
      "text/plain": [
       "True"
      ]
     },
     "execution_count": 17,
     "metadata": {},
     "output_type": "execute_result"
    }
   ],
   "source": [
    "import nltk\n",
    "nltk.download('omw-1.4')"
   ]
  },
  {
   "cell_type": "code",
   "execution_count": 18,
   "id": "1ae1cdbd",
   "metadata": {},
   "outputs": [],
   "source": [
    "import nltk\n",
    "from nltk.stem import WordNetLemmatizer \n",
    "lemmatizer = WordNetLemmatizer()"
   ]
  },
  {
   "cell_type": "code",
   "execution_count": 19,
   "id": "700d2d3f",
   "metadata": {},
   "outputs": [],
   "source": [
    "def Lemmatization(text):\n",
    "    word_list = nltk.word_tokenize(text)\n",
    "    lemmatized_output = ' '.join([lemmatizer.lemmatize(w) for w in word_list])\n",
    "    return lemmatized_output"
   ]
  },
  {
   "cell_type": "code",
   "execution_count": 20,
   "id": "51ed3f65",
   "metadata": {},
   "outputs": [
    {
     "data": {
      "text/plain": [
       "0    i had such high hope for this dress and really...\n",
       "1    i love tracy reese dress but this one is not f...\n",
       "2    dress run small esp where the zipper area run ...\n",
       "3    this is a nice choice for holiday gathering i ...\n",
       "4    material and color is nice the leg opening is ...\n",
       "Name: clean_text, dtype: object"
      ]
     },
     "execution_count": 20,
     "metadata": {},
     "output_type": "execute_result"
    }
   ],
   "source": [
    "df2['clean_text'] = df2['Review_Text'].apply(Lemmatization)\n",
    "df2['clean_text'].head()"
   ]
  },
  {
   "cell_type": "code",
   "execution_count": 21,
   "id": "ef1dd710",
   "metadata": {},
   "outputs": [
    {
     "data": {
      "text/html": [
       "<div>\n",
       "<style scoped>\n",
       "    .dataframe tbody tr th:only-of-type {\n",
       "        vertical-align: middle;\n",
       "    }\n",
       "\n",
       "    .dataframe tbody tr th {\n",
       "        vertical-align: top;\n",
       "    }\n",
       "\n",
       "    .dataframe thead th {\n",
       "        text-align: right;\n",
       "    }\n",
       "</style>\n",
       "<table border=\"1\" class=\"dataframe\">\n",
       "  <thead>\n",
       "    <tr style=\"text-align: right;\">\n",
       "      <th></th>\n",
       "      <th>Review Text</th>\n",
       "      <th>Rating</th>\n",
       "      <th>text_length</th>\n",
       "      <th>Review_Text</th>\n",
       "      <th>clean_text</th>\n",
       "    </tr>\n",
       "  </thead>\n",
       "  <tbody>\n",
       "    <tr>\n",
       "      <th>0</th>\n",
       "      <td>I had such high hopes for this dress and reall...</td>\n",
       "      <td>3</td>\n",
       "      <td>98</td>\n",
       "      <td>i had such high hopes for this dress and reall...</td>\n",
       "      <td>i had such high hope for this dress and really...</td>\n",
       "    </tr>\n",
       "    <tr>\n",
       "      <th>1</th>\n",
       "      <td>I love tracy reese dresses, but this one is no...</td>\n",
       "      <td>2</td>\n",
       "      <td>98</td>\n",
       "      <td>i love tracy reese dresses  but this one is no...</td>\n",
       "      <td>i love tracy reese dress but this one is not f...</td>\n",
       "    </tr>\n",
       "    <tr>\n",
       "      <th>2</th>\n",
       "      <td>Dress runs small esp where the zipper area run...</td>\n",
       "      <td>3</td>\n",
       "      <td>66</td>\n",
       "      <td>dress runs small esp where the zipper area run...</td>\n",
       "      <td>dress run small esp where the zipper area run ...</td>\n",
       "    </tr>\n",
       "    <tr>\n",
       "      <th>3</th>\n",
       "      <td>This is a nice choice for holiday gatherings. ...</td>\n",
       "      <td>3</td>\n",
       "      <td>96</td>\n",
       "      <td>this is a nice choice for holiday gatherings  ...</td>\n",
       "      <td>this is a nice choice for holiday gathering i ...</td>\n",
       "    </tr>\n",
       "    <tr>\n",
       "      <th>4</th>\n",
       "      <td>Material and color is nice.  the leg opening i...</td>\n",
       "      <td>3</td>\n",
       "      <td>73</td>\n",
       "      <td>material and color is nice   the leg opening i...</td>\n",
       "      <td>material and color is nice the leg opening is ...</td>\n",
       "    </tr>\n",
       "  </tbody>\n",
       "</table>\n",
       "</div>"
      ],
      "text/plain": [
       "                                         Review Text  Rating  text_length  \\\n",
       "0  I had such high hopes for this dress and reall...       3           98   \n",
       "1  I love tracy reese dresses, but this one is no...       2           98   \n",
       "2  Dress runs small esp where the zipper area run...       3           66   \n",
       "3  This is a nice choice for holiday gatherings. ...       3           96   \n",
       "4  Material and color is nice.  the leg opening i...       3           73   \n",
       "\n",
       "                                         Review_Text  \\\n",
       "0  i had such high hopes for this dress and reall...   \n",
       "1  i love tracy reese dresses  but this one is no...   \n",
       "2  dress runs small esp where the zipper area run...   \n",
       "3  this is a nice choice for holiday gatherings  ...   \n",
       "4  material and color is nice   the leg opening i...   \n",
       "\n",
       "                                          clean_text  \n",
       "0  i had such high hope for this dress and really...  \n",
       "1  i love tracy reese dress but this one is not f...  \n",
       "2  dress run small esp where the zipper area run ...  \n",
       "3  this is a nice choice for holiday gathering i ...  \n",
       "4  material and color is nice the leg opening is ...  "
      ]
     },
     "execution_count": 21,
     "metadata": {},
     "output_type": "execute_result"
    }
   ],
   "source": [
    "df2.head()"
   ]
  },
  {
   "cell_type": "code",
   "execution_count": 22,
   "id": "f20e795c",
   "metadata": {},
   "outputs": [
    {
     "name": "stdout",
     "output_type": "stream",
     "text": [
      "115\n"
     ]
    }
   ],
   "source": [
    "print(np.max(df2.text_length))"
   ]
  },
  {
   "cell_type": "markdown",
   "id": "80d85a20",
   "metadata": {},
   "source": [
    "#  Doc metric using Vectorization"
   ]
  },
  {
   "cell_type": "code",
   "execution_count": 23,
   "id": "d98c0069",
   "metadata": {},
   "outputs": [],
   "source": [
    "#model function\n",
    "\n",
    "def display_topics(docs, vectorizer, topic_modeler, print_n_words=15):\n",
    "    \n",
    "    doc_word_vectors = vectorizer.fit_transform(docs)\n",
    "    \n",
    "    doc_topic_vectors = topic_modeler.fit_transform(doc_word_vectors)\n",
    "    \n",
    "    words_in_doc = vectorizer.get_feature_names()\n",
    "    for idx, topic in enumerate(topic_modeler.components_):\n",
    "        top_words = [words_in_doc[i].upper() for i in topic.argsort()[:-print_n_words-1:-1]]\n",
    "        print(f\"Topic {idx}:\\n\", \", \".join(top_words), \"\\n\")\n",
    "    \n",
    "    print(topic_modeler.components_.shape)\n",
    "    return doc_topic_vectors"
   ]
  },
  {
   "cell_type": "markdown",
   "id": "d745cf42",
   "metadata": {},
   "source": [
    "# LSA with Tfidf"
   ]
  },
  {
   "cell_type": "code",
   "execution_count": 24,
   "id": "37593ac4",
   "metadata": {},
   "outputs": [
    {
     "name": "stdout",
     "output_type": "stream",
     "text": [
      "Topic 0:\n",
      " DRESS, LIKE, SIZE, LOOK, FIT, JUST, FABRIC, SMALL, LOVE, COLOR, REALLY, ORDERED, SHIRT, LARGE, MATERIAL \n",
      "\n",
      "Topic 1:\n",
      " DRESS, SLIP, BEAUTIFUL, ZIPPER, SACK, PERFECT, BUST, LINING, WEDDING, HIP, BELT, HEAVY, SAD, FABRIC, KNEE \n",
      "\n",
      "Topic 2:\n",
      " SIZE, SMALL, LARGE, RUN, ORDERED, MEDIUM, USUALLY, TIGHT, FIT, BIG, WEAR, SMALLER, NORMALLY, PETITE, RAN \n",
      "\n",
      "Topic 3:\n",
      " SHIRT, DRESS, CUTE, WEAR, WHITE, PRICE, HOLE, WASHED, WORTH, DRY, LOVED, SHEER, BOUGHT, CHEST, WASH \n",
      "\n",
      "Topic 4:\n",
      " LOOK, ARM, SHIRT, WORK, MODEL, LARGE, BIG, BOXY, DIDN, SLEEVE, BODY, SHOULDER, WIDE, CHEST, WAY \n",
      "\n",
      "(5, 3581)\n"
     ]
    },
    {
     "name": "stderr",
     "output_type": "stream",
     "text": [
      "/Users/pramila/opt/anaconda3/envs/metis/lib/python3.9/site-packages/sklearn/utils/deprecation.py:87: FutureWarning: Function get_feature_names is deprecated; get_feature_names is deprecated in 1.0 and will be removed in 1.2. Please use get_feature_names_out instead.\n",
      "  warnings.warn(msg, category=FutureWarning)\n"
     ]
    },
    {
     "data": {
      "text/plain": [
       "array([[ 0.22685493,  0.02611013,  0.15251152, -0.01166424,  0.01491213],\n",
       "       [ 0.27969504,  0.21386462,  0.01787429,  0.00562941, -0.0148408 ],\n",
       "       [ 0.27161365,  0.12188783,  0.06334585,  0.03323274, -0.02504551],\n",
       "       ...,\n",
       "       [ 0.1683364 , -0.0456111 , -0.08849406, -0.04336829,  0.01494223],\n",
       "       [ 0.17427204, -0.02602053, -0.01189575, -0.00299338, -0.09628154],\n",
       "       [ 0.28334401,  0.12042557,  0.02079533,  0.0206513 , -0.0060306 ]])"
      ]
     },
     "execution_count": 24,
     "metadata": {},
     "output_type": "execute_result"
    }
   ],
   "source": [
    "docs = df2['clean_text']\n",
    "vectorizer = TfidfVectorizer(stop_words='english', max_df=0.5, min_df=2)\n",
    "topic_modeler = TruncatedSVD(5, random_state=10)  \n",
    "display_topics(docs, vectorizer, topic_modeler, print_n_words=15)"
   ]
  },
  {
   "cell_type": "markdown",
   "id": "aac9fd2a",
   "metadata": {},
   "source": [
    "# Remove Common Stop words"
   ]
  },
  {
   "cell_type": "code",
   "execution_count": 59,
   "id": "26431d30",
   "metadata": {},
   "outputs": [
    {
     "data": {
      "text/plain": [
       "343"
      ]
     },
     "execution_count": 59,
     "metadata": {},
     "output_type": "execute_result"
    }
   ],
   "source": [
    "stop_words = list(text.ENGLISH_STOP_WORDS)\n",
    "new_stop_words = ['love', 'flattering','loved', 'usually', 'didn', 'did', 'online','cute', 'nice',\n",
    "                 'really','perfect','look','looks','good','white', 'like', 'disappointed', 'great',\n",
    "                 'beautiful', 'dress', 'got', 'boxy', 'ordered', 'wanted','way']\n",
    "all_stop_words = stop_words + new_stop_words\n",
    "\n",
    "#for i in new_stop_words:\n",
    "#    stop_words.append(i)\n",
    "\n",
    "len(all_stop_words)"
   ]
  },
  {
   "cell_type": "code",
   "execution_count": 26,
   "id": "f0c38ec7",
   "metadata": {},
   "outputs": [],
   "source": [
    "#print(all_stop_words)"
   ]
  },
  {
   "cell_type": "markdown",
   "id": "3e7b5551",
   "metadata": {},
   "source": [
    "# after adding custom stop words and tuned hyperparameter"
   ]
  },
  {
   "cell_type": "code",
   "execution_count": 27,
   "id": "e37afb68",
   "metadata": {},
   "outputs": [
    {
     "name": "stdout",
     "output_type": "stream",
     "text": [
      "Topic 0:\n",
      " SIZE, FIT, JUST, SMALL, FABRIC, COLOR, SHIRT, LARGE, WEAR, MATERIAL, WAY, SHORT, BIG, WORK, RUN \n",
      "\n",
      "Topic 1:\n",
      " SHIRT, FABRIC, SWEATER, COLOR, QUALITY, MATERIAL, PRICE, JUST, CHEAP, DESIGN, HA, SOFT, CUT, PICTURE, SHAPE \n",
      "\n",
      "Topic 2:\n",
      " SHIRT, SMALL, RUN, LARGE, SIZE, MEDIUM, WEAR, CHEST, NORMALLY, HOLE, SMALLER, ARM, ORDER, EXTREMELY, XL \n",
      "\n",
      "Topic 3:\n",
      " SWEATER, ARM, SLEEVE, SMALL, SHORT, LARGE, BIG, ITCHY, RUN, SHOULDER, LONG, MEDIUM, MODEL, LENGTH, SOFT \n",
      "\n",
      "Topic 4:\n",
      " SHORT, WORK, LENGTH, ARM, WAIST, LONG, FIT, PETITE, SHIRT, TIGHT, WIDE, SLEEVE, BODY, HIP, TORSO \n",
      "\n",
      "(5, 3558)\n"
     ]
    },
    {
     "data": {
      "text/plain": [
       "array([[ 0.21839273, -0.12232856,  0.02383436,  0.00252795,  0.01026074],\n",
       "       [ 0.19849205, -0.00393401, -0.06038196, -0.04192049,  0.05286136],\n",
       "       [ 0.22555637, -0.05337666,  0.00618832, -0.016756  , -0.11508127],\n",
       "       ...,\n",
       "       [ 0.17287077,  0.0847802 , -0.0614775 ,  0.01301485,  0.03327906],\n",
       "       [ 0.15280749,  0.00913248, -0.02399859, -0.09159322, -0.00733297],\n",
       "       [ 0.23145828, -0.01601595, -0.04186009, -0.02059025,  0.03689795]])"
      ]
     },
     "execution_count": 27,
     "metadata": {},
     "output_type": "execute_result"
    }
   ],
   "source": [
    "# LSA with additional stop words \n",
    "docs = df2['clean_text']\n",
    "#LSA with CountVectorizer\n",
    "\n",
    "#vectorizer = CountVectorizer(stop_words=all_stop_words, max_df=0.5, min_df=1)\n",
    "\n",
    "#LSA with TfidfVectorizer\n",
    "vectorizer = TfidfVectorizer(stop_words= all_stop_words, max_df=0.5, min_df=2)\n",
    "topic_modeler = TruncatedSVD(5, random_state=10)  \n",
    "display_topics(docs, vectorizer, topic_modeler, print_n_words=15)\n"
   ]
  },
  {
   "cell_type": "markdown",
   "id": "497f798b",
   "metadata": {},
   "source": [
    "# Non-Negative Matrix Factorization (NMF) with CountVectorizer"
   ]
  },
  {
   "cell_type": "code",
   "execution_count": 28,
   "id": "ca6164ff",
   "metadata": {},
   "outputs": [
    {
     "name": "stdout",
     "output_type": "stream",
     "text": [
      "Topic 0:\n",
      " JUST, COLOR, MATERIAL, SWEATER, LOOKED, WAY, WORK, SHORT, QUALITY, WEAR, BIG, CUT, MODEL, SLEEVE, TRIED \n",
      "\n",
      "Topic 1:\n",
      " SIZE, SMALL, LARGE, RUN, WEAR, MEDIUM, BIG, TRIED, WAY, PETITE, TIGHT, SMALLER, RETAILER, TRUE, WAIST \n",
      "\n",
      "Topic 2:\n",
      " FIT, ARM, WAIST, SMALL, TIGHT, LARGE, BUST, LOOSE, PETITE, MEDIUM, LONG, SHOULDER, MODEL, BETTER, CHEST \n",
      "\n",
      "Topic 3:\n",
      " SHIRT, WEAR, SMALL, ARM, MATERIAL, SHORT, HOLE, RETAILER, CHEST, MAKE, BOUGHT, SLEEVE, LARGE, WASH, THINK \n",
      "\n",
      "Topic 4:\n",
      " FABRIC, COLOR, WEAR, QUALITY, HA, DESIGN, FEEL, CHEAP, SKIRT, PRETTY, CUT, SOFT, WAIST, MAKE, WAY \n",
      "\n",
      "(5, 3558)\n"
     ]
    },
    {
     "name": "stderr",
     "output_type": "stream",
     "text": [
      "/Users/pramila/opt/anaconda3/envs/metis/lib/python3.9/site-packages/sklearn/decomposition/_nmf.py:289: FutureWarning: The 'init' value, when 'init=None' and n_components is less than n_samples and n_features, will be changed from 'nndsvd' to 'nndsvda' in 1.1 (renaming of 0.26).\n",
      "  warnings.warn(\n",
      "/Users/pramila/opt/anaconda3/envs/metis/lib/python3.9/site-packages/sklearn/utils/deprecation.py:87: FutureWarning: Function get_feature_names is deprecated; get_feature_names is deprecated in 1.0 and will be removed in 1.2. Please use get_feature_names_out instead.\n",
      "  warnings.warn(msg, category=FutureWarning)\n"
     ]
    },
    {
     "data": {
      "text/plain": [
       "array([[0.09842327, 0.25519572, 0.15995009, 0.        , 0.        ],\n",
       "       [0.2555557 , 0.03825382, 0.        , 0.        , 0.        ],\n",
       "       [0.09704331, 0.05724706, 0.13146282, 0.        , 0.15966202],\n",
       "       ...,\n",
       "       [0.15442298, 0.        , 0.        , 0.        , 0.        ],\n",
       "       [0.        , 0.        , 0.11828622, 0.        , 0.15599893],\n",
       "       [0.1095931 , 0.00399863, 0.28144794, 0.        , 0.        ]])"
      ]
     },
     "execution_count": 28,
     "metadata": {},
     "output_type": "execute_result"
    }
   ],
   "source": [
    "docs = df2['clean_text']\n",
    "vectorizer = CountVectorizer(stop_words=all_stop_words, max_df=0.5, min_df=2)\n",
    "topic_modeler = NMF(5, random_state=10, max_iter=1000) \n",
    "\n",
    "display_topics(docs, vectorizer, topic_modeler)"
   ]
  },
  {
   "cell_type": "markdown",
   "id": "626b0fe9",
   "metadata": {},
   "source": [
    "# Non-Negative Matrix Factorization (NMF) with TfidfVectorizer"
   ]
  },
  {
   "cell_type": "code",
   "execution_count": 29,
   "id": "17967736",
   "metadata": {},
   "outputs": [
    {
     "name": "stderr",
     "output_type": "stream",
     "text": [
      "/Users/pramila/opt/anaconda3/envs/metis/lib/python3.9/site-packages/sklearn/decomposition/_nmf.py:289: FutureWarning: The 'init' value, when 'init=None' and n_components is less than n_samples and n_features, will be changed from 'nndsvd' to 'nndsvda' in 1.1 (renaming of 0.26).\n",
      "  warnings.warn(\n"
     ]
    },
    {
     "name": "stdout",
     "output_type": "stream",
     "text": [
      "Topic 0:\n",
      " FABRIC, COLOR, MATERIAL, QUALITY, DESIGN, JUST, PRICE, WEAR, SKIRT, CHEAP, HA, FEEL, LOOKED, RETURNED, PANT \n",
      "\n",
      "Topic 1:\n",
      " SIZE, SMALL, LARGE, RUN, MEDIUM, WEAR, BIG, SMALLER, HUGE, FIT, NORMALLY, TIGHT, RAN, ORDER, RETAILER \n",
      "\n",
      "Topic 2:\n",
      " SHIRT, WEAR, HOLE, WASHED, SLEEVE, MATERIAL, SHRUNK, CHEST, BOUGHT, WORTH, RETURNING, WASH, DRY, SHORT, UNDERNEATH \n",
      "\n",
      "Topic 3:\n",
      " SWEATER, SLEEVE, ITCHY, COLOR, MODEL, SOFT, WOOL, LONG, PICTURE, LOOKING, ARM, SCRATCHY, LARGE, KNIT, WARM \n",
      "\n",
      "Topic 4:\n",
      " FIT, JUST, SHORT, WORK, WAY, WAIST, ARM, PETITE, LENGTH, LONG, MODEL, BODY, WIDE, SLEEVE, CUT \n",
      "\n",
      "(5, 3558)\n"
     ]
    },
    {
     "name": "stderr",
     "output_type": "stream",
     "text": [
      "/Users/pramila/opt/anaconda3/envs/metis/lib/python3.9/site-packages/sklearn/utils/deprecation.py:87: FutureWarning: Function get_feature_names is deprecated; get_feature_names is deprecated in 1.0 and will be removed in 1.2. Please use get_feature_names_out instead.\n",
      "  warnings.warn(msg, category=FutureWarning)\n"
     ]
    },
    {
     "data": {
      "text/plain": [
       "array([[0.01297337, 0.07148021, 0.        , 0.        , 0.04402296],\n",
       "       [0.03356083, 0.01977694, 0.        , 0.        , 0.05071098],\n",
       "       [0.0462891 , 0.05697228, 0.        , 0.        , 0.01950646],\n",
       "       ...,\n",
       "       [0.02816846, 0.        , 0.00565189, 0.01079923, 0.05723245],\n",
       "       [0.04491448, 0.01836091, 0.        , 0.        , 0.0106599 ],\n",
       "       [0.0173607 , 0.02328537, 0.0022049 , 0.        , 0.08418852]])"
      ]
     },
     "execution_count": 29,
     "metadata": {},
     "output_type": "execute_result"
    }
   ],
   "source": [
    "docs = df2['clean_text']\n",
    "vectorizer = TfidfVectorizer(stop_words=all_stop_words, max_df=0.5, min_df=2)\n",
    "topic_modeler = NMF(5, random_state=10, max_iter=1000) \n",
    "\n",
    "display_topics(docs, vectorizer, topic_modeler)"
   ]
  },
  {
   "cell_type": "markdown",
   "id": "d5aea470",
   "metadata": {},
   "source": [
    "# LDA "
   ]
  },
  {
   "cell_type": "code",
   "execution_count": 30,
   "id": "6cd6de81",
   "metadata": {},
   "outputs": [],
   "source": [
    "from sklearn import datasets\n",
    "from sklearn.decomposition import LatentDirichletAllocation"
   ]
  },
  {
   "cell_type": "code",
   "execution_count": 31,
   "id": "16e17481",
   "metadata": {},
   "outputs": [
    {
     "name": "stdout",
     "output_type": "stream",
     "text": [
      "Topic 0:\n",
      " FIT, SIZE, JUST, FABRIC, SMALL, SHIRT, WEAR, COLOR, WAY, MATERIAL, QUALITY, TRIED, LARGE, SHORT, WAIST \n",
      "\n",
      "Topic 1:\n",
      " KIMONO, SWEET, PILLED, DRESSED, DESIGN, ROUGH, MUDDY, DROOPY, DISAPPOINTMENT, UNBUTTONED, UNRAVELED, LUMP, SASH, DARTS, SAUSAGE \n",
      "\n",
      "Topic 2:\n",
      " SIZE, SMALL, FIT, FABRIC, LARGE, JUST, MATERIAL, COLOR, BIG, SWEATER, SHIRT, REVIEWS, MEDIUM, SKIRT, RETURN \n",
      "\n",
      "Topic 3:\n",
      " SWEATER, SHAPE, MATERIAL, JUST, LOOKED, FABRIC, QUALITY, UNFLATTERING, MODEL, RETURNED, PICTURE, WAY, WORK, RETURNING, PRETTY \n",
      "\n",
      "Topic 4:\n",
      " SIZE, FIT, JUST, SMALL, XS, PETITE, FABRIC, SHIRT, SWEATER, COLOR, WEAR, WAY, GOING, LENGTH, LARGE \n",
      "\n",
      "(5, 4090)\n"
     ]
    },
    {
     "data": {
      "text/plain": [
       "array([[0.86948238, 0.03228232, 0.03302541, 0.03255275, 0.03265715],\n",
       "       [0.72183343, 0.03336632, 0.03403557, 0.17600783, 0.03475685],\n",
       "       [0.85440878, 0.03604366, 0.03649366, 0.03646708, 0.03658683],\n",
       "       ...,\n",
       "       [0.84143156, 0.03856838, 0.03945967, 0.04056521, 0.03997518],\n",
       "       [0.79081006, 0.05154416, 0.05292292, 0.0520262 , 0.05269665],\n",
       "       [0.50581783, 0.03417444, 0.38961305, 0.03577206, 0.03462262]])"
      ]
     },
     "execution_count": 31,
     "metadata": {},
     "output_type": "execute_result"
    }
   ],
   "source": [
    "docs = df2['Review Text']\n",
    "\n",
    "#vectorizer = CountVectorizer(stop_words=all_stop_words, max_df=0.5, min_df=2)\n",
    "\n",
    "\n",
    "vectorizer = TfidfVectorizer(stop_words= all_stop_words, max_df=0.5, min_df=2)\n",
    "lda_tfidf = LatentDirichletAllocation(n_components=5, random_state=42)  \n",
    "display_topics(docs, vectorizer, lda_tfidf, print_n_words=15)"
   ]
  },
  {
   "cell_type": "code",
   "execution_count": null,
   "id": "b1f42b69",
   "metadata": {},
   "outputs": [],
   "source": []
  },
  {
   "cell_type": "markdown",
   "id": "17cd683c",
   "metadata": {},
   "source": [
    "### After adding costum stop-word list NMF and TfidfVectorizer had the better results and cleaner topics "
   ]
  },
  {
   "cell_type": "markdown",
   "id": "e8585e28",
   "metadata": {},
   "source": [
    "# Non-Negative Matrix Factorization (NMF) with Tfidf"
   ]
  },
  {
   "cell_type": "code",
   "execution_count": 73,
   "id": "55a3672e",
   "metadata": {},
   "outputs": [
    {
     "name": "stderr",
     "output_type": "stream",
     "text": [
      "/Users/pramila/opt/anaconda3/envs/metis/lib/python3.9/site-packages/sklearn/utils/deprecation.py:87: FutureWarning: Function get_feature_names is deprecated; get_feature_names is deprecated in 1.0 and will be removed in 1.2. Please use get_feature_names_out instead.\n",
      "  warnings.warn(msg, category=FutureWarning)\n"
     ]
    }
   ],
   "source": [
    "vectorizer = TfidfVectorizer(stop_words= all_stop_words, max_df=0.5, min_df=2)\n",
    "doc_word = vectorizer.fit_transform(df2['clean_text'].tolist())\n",
    "doc_word.shape\n",
    "doc_word = vectorizer.get_feature_names()\n",
    "#pd.DataFrame(doc_word.toarray(), index=df2['clean_text'].tolist(), columns=vectorizer.get_feature_names()).head(10)"
   ]
  },
  {
   "cell_type": "code",
   "execution_count": 72,
   "id": "b28b22f5",
   "metadata": {},
   "outputs": [
    {
     "name": "stderr",
     "output_type": "stream",
     "text": [
      "/Users/pramila/opt/anaconda3/envs/metis/lib/python3.9/site-packages/sklearn/decomposition/_nmf.py:289: FutureWarning: The 'init' value, when 'init=None' and n_components is less than n_samples and n_features, will be changed from 'nndsvd' to 'nndsvda' in 1.1 (renaming of 0.26).\n",
      "  warnings.warn(\n"
     ]
    }
   ],
   "source": [
    "nmf_model = NMF(4, random_state=10, max_iter=1000)\n",
    "doc_topic = nmf_model.fit_transform(doc_word)"
   ]
  },
  {
   "cell_type": "code",
   "execution_count": 74,
   "id": "ace1f5f6",
   "metadata": {},
   "outputs": [
    {
     "data": {
      "text/html": [
       "<div>\n",
       "<style scoped>\n",
       "    .dataframe tbody tr th:only-of-type {\n",
       "        vertical-align: middle;\n",
       "    }\n",
       "\n",
       "    .dataframe tbody tr th {\n",
       "        vertical-align: top;\n",
       "    }\n",
       "\n",
       "    .dataframe thead th {\n",
       "        text-align: right;\n",
       "    }\n",
       "</style>\n",
       "<table border=\"1\" class=\"dataframe\">\n",
       "  <thead>\n",
       "    <tr style=\"text-align: right;\">\n",
       "      <th></th>\n",
       "      <th>abdomen</th>\n",
       "      <th>ability</th>\n",
       "      <th>able</th>\n",
       "      <th>absolute</th>\n",
       "      <th>absolutely</th>\n",
       "      <th>absurd</th>\n",
       "      <th>abundance</th>\n",
       "      <th>accent</th>\n",
       "      <th>accentuate</th>\n",
       "      <th>accentuated</th>\n",
       "      <th>...</th>\n",
       "      <th>yuck</th>\n",
       "      <th>yummy</th>\n",
       "      <th>yup</th>\n",
       "      <th>zag</th>\n",
       "      <th>zero</th>\n",
       "      <th>zig</th>\n",
       "      <th>zip</th>\n",
       "      <th>zipped</th>\n",
       "      <th>zipper</th>\n",
       "      <th>zoom</th>\n",
       "    </tr>\n",
       "  </thead>\n",
       "  <tbody>\n",
       "    <tr>\n",
       "      <th>component_1</th>\n",
       "      <td>0.004</td>\n",
       "      <td>0.003</td>\n",
       "      <td>0.043</td>\n",
       "      <td>0.004</td>\n",
       "      <td>0.086</td>\n",
       "      <td>0.003</td>\n",
       "      <td>0.002</td>\n",
       "      <td>0.014</td>\n",
       "      <td>0.009</td>\n",
       "      <td>0.015</td>\n",
       "      <td>...</td>\n",
       "      <td>0.002</td>\n",
       "      <td>0.004</td>\n",
       "      <td>0.002</td>\n",
       "      <td>0.002</td>\n",
       "      <td>0.011</td>\n",
       "      <td>0.002</td>\n",
       "      <td>0.021</td>\n",
       "      <td>0.002</td>\n",
       "      <td>0.105</td>\n",
       "      <td>0.001</td>\n",
       "    </tr>\n",
       "    <tr>\n",
       "      <th>component_2</th>\n",
       "      <td>0.004</td>\n",
       "      <td>0.001</td>\n",
       "      <td>0.044</td>\n",
       "      <td>0.003</td>\n",
       "      <td>0.040</td>\n",
       "      <td>0.001</td>\n",
       "      <td>0.000</td>\n",
       "      <td>0.000</td>\n",
       "      <td>0.005</td>\n",
       "      <td>0.000</td>\n",
       "      <td>...</td>\n",
       "      <td>0.003</td>\n",
       "      <td>0.000</td>\n",
       "      <td>0.003</td>\n",
       "      <td>0.000</td>\n",
       "      <td>0.009</td>\n",
       "      <td>0.000</td>\n",
       "      <td>0.046</td>\n",
       "      <td>0.034</td>\n",
       "      <td>0.040</td>\n",
       "      <td>0.000</td>\n",
       "    </tr>\n",
       "    <tr>\n",
       "      <th>component_3</th>\n",
       "      <td>0.000</td>\n",
       "      <td>0.002</td>\n",
       "      <td>0.021</td>\n",
       "      <td>0.000</td>\n",
       "      <td>0.025</td>\n",
       "      <td>0.000</td>\n",
       "      <td>0.000</td>\n",
       "      <td>0.001</td>\n",
       "      <td>0.000</td>\n",
       "      <td>0.000</td>\n",
       "      <td>...</td>\n",
       "      <td>0.000</td>\n",
       "      <td>0.000</td>\n",
       "      <td>0.000</td>\n",
       "      <td>0.000</td>\n",
       "      <td>0.000</td>\n",
       "      <td>0.000</td>\n",
       "      <td>0.000</td>\n",
       "      <td>0.000</td>\n",
       "      <td>0.000</td>\n",
       "      <td>0.006</td>\n",
       "    </tr>\n",
       "    <tr>\n",
       "      <th>component_4</th>\n",
       "      <td>0.004</td>\n",
       "      <td>0.000</td>\n",
       "      <td>0.000</td>\n",
       "      <td>0.000</td>\n",
       "      <td>0.000</td>\n",
       "      <td>0.000</td>\n",
       "      <td>0.006</td>\n",
       "      <td>0.009</td>\n",
       "      <td>0.003</td>\n",
       "      <td>0.003</td>\n",
       "      <td>...</td>\n",
       "      <td>0.000</td>\n",
       "      <td>0.000</td>\n",
       "      <td>0.000</td>\n",
       "      <td>0.008</td>\n",
       "      <td>0.000</td>\n",
       "      <td>0.008</td>\n",
       "      <td>0.000</td>\n",
       "      <td>0.000</td>\n",
       "      <td>0.000</td>\n",
       "      <td>0.000</td>\n",
       "    </tr>\n",
       "  </tbody>\n",
       "</table>\n",
       "<p>4 rows × 3557 columns</p>\n",
       "</div>"
      ],
      "text/plain": [
       "             abdomen  ability   able  absolute  absolutely  absurd  abundance  \\\n",
       "component_1    0.004    0.003  0.043     0.004       0.086   0.003      0.002   \n",
       "component_2    0.004    0.001  0.044     0.003       0.040   0.001      0.000   \n",
       "component_3    0.000    0.002  0.021     0.000       0.025   0.000      0.000   \n",
       "component_4    0.004    0.000  0.000     0.000       0.000   0.000      0.006   \n",
       "\n",
       "             accent  accentuate  accentuated  ...   yuck  yummy    yup    zag  \\\n",
       "component_1   0.014       0.009        0.015  ...  0.002  0.004  0.002  0.002   \n",
       "component_2   0.000       0.005        0.000  ...  0.003  0.000  0.003  0.000   \n",
       "component_3   0.001       0.000        0.000  ...  0.000  0.000  0.000  0.000   \n",
       "component_4   0.009       0.003        0.003  ...  0.000  0.000  0.000  0.008   \n",
       "\n",
       "              zero    zig    zip  zipped  zipper   zoom  \n",
       "component_1  0.011  0.002  0.021   0.002   0.105  0.001  \n",
       "component_2  0.009  0.000  0.046   0.034   0.040  0.000  \n",
       "component_3  0.000  0.000  0.000   0.000   0.000  0.006  \n",
       "component_4  0.000  0.008  0.000   0.000   0.000  0.000  \n",
       "\n",
       "[4 rows x 3557 columns]"
      ]
     },
     "execution_count": 74,
     "metadata": {},
     "output_type": "execute_result"
    }
   ],
   "source": [
    "topic_word = pd.DataFrame(nmf_model.components_.round(3),\n",
    "             index = [\"component_1\",\"component_2\", \"component_3\", \"component_4\"],\n",
    "             columns = vectorizer.get_feature_names())\n",
    "topic_word"
   ]
  },
  {
   "cell_type": "markdown",
   "id": "b2176078",
   "metadata": {},
   "source": [
    "### Display topics using NMF Tfidf Vectorizer"
   ]
  },
  {
   "cell_type": "code",
   "execution_count": 75,
   "id": "408429af",
   "metadata": {},
   "outputs": [
    {
     "name": "stdout",
     "output_type": "stream",
     "text": [
      "Topic 0:\n",
      " JUST, FABRIC, COLOR, FIT, MATERIAL, LOOKED, QUALITY, WORK, SHORT, CUT, WAIST, PRETTY, DESIGN, SKIRT, SHAPE \n",
      "\n",
      "Topic 1:\n",
      " SIZE, SMALL, LARGE, RUN, MEDIUM, BIG, FIT, WEAR, TIGHT, SMALLER, ARM, HUGE, NORMALLY, CHEST, PETITE \n",
      "\n",
      "Topic 2:\n",
      " SHIRT, WEAR, MATERIAL, SHORT, WASHED, HOLE, SLEEVE, ARM, BOUGHT, WORTH, PRICE, WASH, SHRUNK, RETURNING, DRY \n",
      "\n",
      "Topic 3:\n",
      " SWEATER, SLEEVE, ARM, ITCHY, LONG, MODEL, COLOR, SHORT, SOFT, LENGTH, WOOL, PICTURE, LOOKING, DESIGN, SHOULDER \n",
      "\n",
      "(4, 3557)\n"
     ]
    },
    {
     "name": "stderr",
     "output_type": "stream",
     "text": [
      "/Users/pramila/opt/anaconda3/envs/metis/lib/python3.9/site-packages/sklearn/decomposition/_nmf.py:289: FutureWarning: The 'init' value, when 'init=None' and n_components is less than n_samples and n_features, will be changed from 'nndsvd' to 'nndsvda' in 1.1 (renaming of 0.26).\n",
      "  warnings.warn(\n",
      "/Users/pramila/opt/anaconda3/envs/metis/lib/python3.9/site-packages/sklearn/utils/deprecation.py:87: FutureWarning: Function get_feature_names is deprecated; get_feature_names is deprecated in 1.0 and will be removed in 1.2. Please use get_feature_names_out instead.\n",
      "  warnings.warn(msg, category=FutureWarning)\n"
     ]
    },
    {
     "data": {
      "text/plain": [
       "array([[0.0286727 , 0.07756443, 0.        , 0.        ],\n",
       "       [0.0555071 , 0.01916889, 0.        , 0.        ],\n",
       "       [0.04473493, 0.0559793 , 0.        , 0.        ],\n",
       "       ...,\n",
       "       [0.05464886, 0.        , 0.00529391, 0.01294897],\n",
       "       [0.04016744, 0.01851584, 0.        , 0.        ],\n",
       "       [0.05147965, 0.03179354, 0.00289377, 0.00015826]])"
      ]
     },
     "execution_count": 75,
     "metadata": {},
     "output_type": "execute_result"
    }
   ],
   "source": [
    "docs = df2['clean_text']\n",
    "vectorizer = TfidfVectorizer(stop_words=all_stop_words, max_df=0.5, min_df=2)\n",
    "topic_modeler = NMF(4, random_state=10, max_iter=1000) \n",
    "\n",
    "doc_topic_vectors = display_topics(docs, vectorizer, topic_modeler)\n",
    "doc_topic_vectors"
   ]
  },
  {
   "cell_type": "code",
   "execution_count": 76,
   "id": "d9b83f0e",
   "metadata": {},
   "outputs": [],
   "source": [
    "df_topic = df2[['Rating','clean_text']]"
   ]
  },
  {
   "cell_type": "code",
   "execution_count": 77,
   "id": "54f9a37a",
   "metadata": {},
   "outputs": [
    {
     "name": "stderr",
     "output_type": "stream",
     "text": [
      "/var/folders/dy/63r9w1v578v1x17vwmwhknwm0000gn/T/ipykernel_18008/2880897813.py:1: SettingWithCopyWarning: \n",
      "A value is trying to be set on a copy of a slice from a DataFrame.\n",
      "Try using .loc[row_indexer,col_indexer] = value instead\n",
      "\n",
      "See the caveats in the documentation: https://pandas.pydata.org/pandas-docs/stable/user_guide/indexing.html#returning-a-view-versus-a-copy\n",
      "  df_topic['topic'] = doc_topic_vectors.argmax(axis=1)\n"
     ]
    }
   ],
   "source": [
    "df_topic['topic'] = doc_topic_vectors.argmax(axis=1)"
   ]
  },
  {
   "cell_type": "code",
   "execution_count": 82,
   "id": "a9febe77",
   "metadata": {},
   "outputs": [
    {
     "name": "stderr",
     "output_type": "stream",
     "text": [
      "/var/folders/dy/63r9w1v578v1x17vwmwhknwm0000gn/T/ipykernel_18008/3919810441.py:11: SettingWithCopyWarning: \n",
      "A value is trying to be set on a copy of a slice from a DataFrame.\n",
      "Try using .loc[row_indexer,col_indexer] = value instead\n",
      "\n",
      "See the caveats in the documentation: https://pandas.pydata.org/pandas-docs/stable/user_guide/indexing.html#returning-a-view-versus-a-copy\n",
      "  df_topic['topic_label'] = topic_names\n"
     ]
    }
   ],
   "source": [
    "# label each topics\n",
    "topic_names = []\n",
    "tmap = {\n",
    "    0: 'Fabric quality',\n",
    "    1: 'Fitting issues',\n",
    "    2: 'Spoiled after wash',\n",
    "    3: 'Issues with Woolens'\n",
    "}\n",
    "for t_id in doc_topic_vectors.argmax(axis=1):\n",
    "    topic_names.append(tmap[t_id])\n",
    "    \n",
    "df_topic['topic_label'] = topic_names"
   ]
  },
  {
   "cell_type": "code",
   "execution_count": 83,
   "id": "66a3208f",
   "metadata": {},
   "outputs": [
    {
     "data": {
      "text/html": [
       "<div>\n",
       "<style scoped>\n",
       "    .dataframe tbody tr th:only-of-type {\n",
       "        vertical-align: middle;\n",
       "    }\n",
       "\n",
       "    .dataframe tbody tr th {\n",
       "        vertical-align: top;\n",
       "    }\n",
       "\n",
       "    .dataframe thead th {\n",
       "        text-align: right;\n",
       "    }\n",
       "</style>\n",
       "<table border=\"1\" class=\"dataframe\">\n",
       "  <thead>\n",
       "    <tr style=\"text-align: right;\">\n",
       "      <th></th>\n",
       "      <th>Rating</th>\n",
       "      <th>clean_text</th>\n",
       "      <th>topic</th>\n",
       "      <th>topic_label</th>\n",
       "    </tr>\n",
       "  </thead>\n",
       "  <tbody>\n",
       "    <tr>\n",
       "      <th>0</th>\n",
       "      <td>3</td>\n",
       "      <td>i had such high hope for this dress and really...</td>\n",
       "      <td>1</td>\n",
       "      <td>Fitting issues</td>\n",
       "    </tr>\n",
       "    <tr>\n",
       "      <th>1</th>\n",
       "      <td>2</td>\n",
       "      <td>i love tracy reese dress but this one is not f...</td>\n",
       "      <td>0</td>\n",
       "      <td>Fabric quality</td>\n",
       "    </tr>\n",
       "    <tr>\n",
       "      <th>2</th>\n",
       "      <td>3</td>\n",
       "      <td>dress run small esp where the zipper area run ...</td>\n",
       "      <td>1</td>\n",
       "      <td>Fitting issues</td>\n",
       "    </tr>\n",
       "    <tr>\n",
       "      <th>3</th>\n",
       "      <td>3</td>\n",
       "      <td>this is a nice choice for holiday gathering i ...</td>\n",
       "      <td>1</td>\n",
       "      <td>Fitting issues</td>\n",
       "    </tr>\n",
       "    <tr>\n",
       "      <th>4</th>\n",
       "      <td>3</td>\n",
       "      <td>material and color is nice the leg opening is ...</td>\n",
       "      <td>0</td>\n",
       "      <td>Fabric quality</td>\n",
       "    </tr>\n",
       "    <tr>\n",
       "      <th>...</th>\n",
       "      <td>...</td>\n",
       "      <td>...</td>\n",
       "      <td>...</td>\n",
       "      <td>...</td>\n",
       "    </tr>\n",
       "    <tr>\n",
       "      <th>5188</th>\n",
       "      <td>3</td>\n",
       "      <td>cute dress but not for me the waist is too hig...</td>\n",
       "      <td>0</td>\n",
       "      <td>Fabric quality</td>\n",
       "    </tr>\n",
       "    <tr>\n",
       "      <th>5189</th>\n",
       "      <td>1</td>\n",
       "      <td>i wa surprised at the positive review for this...</td>\n",
       "      <td>0</td>\n",
       "      <td>Fabric quality</td>\n",
       "    </tr>\n",
       "    <tr>\n",
       "      <th>5190</th>\n",
       "      <td>3</td>\n",
       "      <td>it reminds me of maternity clothes soft stretc...</td>\n",
       "      <td>0</td>\n",
       "      <td>Fabric quality</td>\n",
       "    </tr>\n",
       "    <tr>\n",
       "      <th>5191</th>\n",
       "      <td>3</td>\n",
       "      <td>this fit well but the top wa very see through ...</td>\n",
       "      <td>0</td>\n",
       "      <td>Fabric quality</td>\n",
       "    </tr>\n",
       "    <tr>\n",
       "      <th>5192</th>\n",
       "      <td>3</td>\n",
       "      <td>i bought this dress for a wedding i have this ...</td>\n",
       "      <td>0</td>\n",
       "      <td>Fabric quality</td>\n",
       "    </tr>\n",
       "  </tbody>\n",
       "</table>\n",
       "<p>5193 rows × 4 columns</p>\n",
       "</div>"
      ],
      "text/plain": [
       "      Rating                                         clean_text  topic  \\\n",
       "0          3  i had such high hope for this dress and really...      1   \n",
       "1          2  i love tracy reese dress but this one is not f...      0   \n",
       "2          3  dress run small esp where the zipper area run ...      1   \n",
       "3          3  this is a nice choice for holiday gathering i ...      1   \n",
       "4          3  material and color is nice the leg opening is ...      0   \n",
       "...      ...                                                ...    ...   \n",
       "5188       3  cute dress but not for me the waist is too hig...      0   \n",
       "5189       1  i wa surprised at the positive review for this...      0   \n",
       "5190       3  it reminds me of maternity clothes soft stretc...      0   \n",
       "5191       3  this fit well but the top wa very see through ...      0   \n",
       "5192       3  i bought this dress for a wedding i have this ...      0   \n",
       "\n",
       "         topic_label  \n",
       "0     Fitting issues  \n",
       "1     Fabric quality  \n",
       "2     Fitting issues  \n",
       "3     Fitting issues  \n",
       "4     Fabric quality  \n",
       "...              ...  \n",
       "5188  Fabric quality  \n",
       "5189  Fabric quality  \n",
       "5190  Fabric quality  \n",
       "5191  Fabric quality  \n",
       "5192  Fabric quality  \n",
       "\n",
       "[5193 rows x 4 columns]"
      ]
     },
     "execution_count": 83,
     "metadata": {},
     "output_type": "execute_result"
    }
   ],
   "source": [
    "df_topic"
   ]
  },
  {
   "cell_type": "code",
   "execution_count": 84,
   "id": "bb29ce62",
   "metadata": {},
   "outputs": [],
   "source": [
    "df_topic.to_csv('ratingVStopics2.csv')"
   ]
  },
  {
   "cell_type": "code",
   "execution_count": 79,
   "id": "1fb9a106",
   "metadata": {},
   "outputs": [],
   "source": [
    "# plot top words in each topics\n",
    "def top_words(model, feature_names, n_top_words, title):\n",
    "    fig, axes = plt.subplots(2, 2, figsize=(30, 15), sharex=True)\n",
    "    axes = axes.flatten()\n",
    "    for topic_idx, topic in enumerate(model.components_):\n",
    "        top_features_ind = topic.argsort()[: -n_top_words - 1 : -1]\n",
    "        top_features = [feature_names[i] for i in top_features_ind]\n",
    "        weights = topic[top_features_ind]\n",
    "        ax = axes[topic_idx]\n",
    "        ax.barh(top_features, weights, height=0.7)\n",
    "        ax.set_title(f\"Topic {topic_idx +1}\", fontdict={\"fontsize\": 30})\n",
    "        ax.invert_yaxis()\n",
    "        ax.tick_params(axis=\"both\", which=\"major\", labelsize=20)\n",
    "        for i in \"top right left\".split():\n",
    "            ax.spines[i].set_visible(False)\n",
    "        fig.suptitle(title, fontsize=40)\n",
    "    plt.subplots_adjust(top=0.90, bottom=0.05, wspace=0.90, hspace=0.3)\n",
    "    plt.show()"
   ]
  },
  {
   "cell_type": "code",
   "execution_count": 80,
   "id": "3657937d",
   "metadata": {},
   "outputs": [
    {
     "data": {
      "image/png": "[encoded data removed]",
      "text/plain": [
       "<Figure size 2160x1080 with 4 Axes>"
      ]
     },
     "metadata": {
      "needs_background": "light"
     },
     "output_type": "display_data"
    }
   ],
   "source": [
    "top_words(nmf_model, doc_word, 15, \"Topics in NMF model\")"
   ]
  },
  {
   "cell_type": "code",
   "execution_count": null,
   "id": "fa210de4",
   "metadata": {},
   "outputs": [],
   "source": []
  }
 ],
 "metadata": {
  "kernelspec": {
   "display_name": "Python [conda env:metis] *",
   "language": "python",
   "name": "conda-env-metis-py"
  },
  "language_info": {
   "codemirror_mode": {
    "name": "ipython",
    "version": 3
   },
   "file_extension": ".py",
   "mimetype": "text/x-python",
   "name": "python",
   "nbconvert_exporter": "python",
   "pygments_lexer": "ipython3",
   "version": "3.9.9"
  }
 },
 "nbformat": 4,
 "nbformat_minor": 5
}
